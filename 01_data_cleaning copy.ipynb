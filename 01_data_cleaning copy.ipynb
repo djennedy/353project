{
 "cells": [
  {
   "cell_type": "code",
   "execution_count": 3,
   "metadata": {},
   "outputs": [],
   "source": [
    "import sys\n",
    "import numpy as np\n",
    "import pandas as pd\n",
    "import matplotlib.pyplot as plt\n"
   ]
  },
  {
   "cell_type": "code",
   "execution_count": 4,
   "metadata": {},
   "outputs": [],
   "source": [
    "data = pd.read_json('cmpt-history.ndjson.gz', lines=True, convert_dates=['date'])"
   ]
  },
  {
   "cell_type": "code",
   "execution_count": 5,
   "metadata": {},
   "outputs": [],
   "source": [
    "#Convert semester code into enrollment date for each term\n",
    "def semester_to_enrollment_date(semester):\n",
    "    semester_str = str(semester)\n",
    "    #Extracting relevant information from semester column value\n",
    "    century = int(semester_str[0])\n",
    "    year = int(semester_str[1:3])\n",
    "    term = int(semester_str[3])\n",
    "    \n",
    "    #get dictionary key\n",
    "    key = int(semester_str[1:])\n",
    "    \n",
    "    year = year + (20 + century - 1) * 100\n",
    "    \n",
    "    if term == 1:\n",
    "        year = year -1 #Enrollment for Spring Term is on the year before \n",
    "        month = 11 #Spring Term Enrollment Month is November\n",
    "    elif term == 4:\n",
    "        month = 3 #Summer Term Enrollment Month is March for all sessions\n",
    "    elif term == 7:\n",
    "        month = 7 #Fall Term Enrollment Month is July\n",
    "    \n",
    "    #Enrollment date for each term, key extracted from the last 3 digit of semester code\n",
    "    enrollment_date_dict = {\n",
    "        171: 7,\n",
    "        174: 6,\n",
    "        177: 11,\n",
    "        181: 6,\n",
    "        184: 5,\n",
    "        187: 9,\n",
    "        191: 5,\n",
    "        194: 4,\n",
    "        197: 8,\n",
    "        201: 4,\n",
    "        204: 2,\n",
    "        207: 6,\n",
    "        211: 9,\n",
    "        214: 8,\n",
    "        217: 5,\n",
    "        221: 8,\n",
    "        224: 7,\n",
    "        227: 4,\n",
    "        231: 7,\n",
    "        234: 6,\n",
    "        237: 4    \n",
    "    }\n",
    "    \n",
    "    default_day = 1\n",
    "    day = enrollment_date_dict.get(key, default_day)\n",
    "    \n",
    "    return pd.to_datetime(f\"{year}-{month:02d}-{day}\")\n",
    "\n",
    "data['enrollment_date'] = data['semester'].apply(semester_to_enrollment_date)"
   ]
  },
  {
   "cell_type": "code",
   "execution_count": 6,
   "metadata": {},
   "outputs": [],
   "source": [
    "#Convert semester code into enrollment closing date for each term\n",
    "def semester_to_enrollment_closing_date(semester):\n",
    "    semester_str = str(semester)\n",
    "    #Extracting relevant information from semester column value\n",
    "    century = int(semester_str[0])\n",
    "    year = int(semester_str[1:3])\n",
    "    term = int(semester_str[3])\n",
    "        \n",
    "    #get dictionary key\n",
    "    key = int(semester_str[1:])\n",
    "    \n",
    "    year = year + (20 + century - 1) * 100\n",
    "    \n",
    "    if term == 1:\n",
    "        month = 1\n",
    "    elif term == 4:\n",
    "        month = 5\n",
    "    elif term == 7:\n",
    "        month = 9\n",
    "        \n",
    "    #For each term, enrollment closed approximately 1 weeks after the class start    \n",
    "    enrollment_closing_date_dict = {\n",
    "        171: 10,\n",
    "        174: 14,\n",
    "        177: 11,\n",
    "        181: 9,\n",
    "        184: 13,\n",
    "        187: 10,\n",
    "        191: 9,\n",
    "        194: 12,\n",
    "        197: 9,\n",
    "        201: 12,\n",
    "        204: 17,\n",
    "        207: 15,\n",
    "        211: 17,\n",
    "        214: 18,\n",
    "        217: 14,\n",
    "        221: 16,\n",
    "        224: 16,\n",
    "        227: 12,\n",
    "        231: 10,\n",
    "        234: 14,\n",
    "        237: 12    \n",
    "    }\n",
    "    \n",
    "    default_day = 1\n",
    "    day = enrollment_closing_date_dict.get(key, default_day)\n",
    "    \n",
    "    return pd.to_datetime(f\"{year}-{month:02d}-{day}\")\n",
    "\n",
    "data['enrollment_closing_date'] = data['semester'].apply(semester_to_enrollment_closing_date)"
   ]
  },
  {
   "cell_type": "code",
   "execution_count": 7,
   "metadata": {},
   "outputs": [],
   "source": [
    "# Filtering: We don't need CHIN & DDP courses, co-op courses, research courses, or graduate level courses. We can filter these out\n",
    "# Note: Even though research project courses can be full, we omit the courses as it is too dependent on non-quantifiable factors (eg: research topic, professor, etc.)\n",
    "# Note: We also filter data on unncessary date since we are gauging student's interest on each class based on how long it take to hit a cap and how many people could not get in by the end\n",
    "\n",
    "data = data.loc[data['subject'].apply(lambda x: x == 'CMPT' or x == 'MACM')] # Filtering non-CMPT or MACM courses\n",
    "data = data.loc[data['number'].apply(lambda x: int(x[:3])<500)] # Filtering graduate-level courses, note: [:3] is to avoid edge cases such as 105W\n",
    "data = data.loc[data['number'].apply(lambda x: int(x[:3]) < 426 or int(x[:3]) > 430)] # Filtering co-op courses\n",
    "data = data.loc[data['number'].apply(lambda x: int(x[:3]) < 415 or int(x[:3]) > 416)] # Filtering research courses\n",
    "data = data.loc[data['semester'].apply(lambda x: x < 1241 )] #Filtering all courses listed for Spring 2024\n",
    "data = data[data.apply(lambda row: row['enrollment_date'] <= row['date'] <= row['enrollment_closing_date'], axis=1)]\n",
    "# Note: Semester data, eg. 1241 : \n",
    "# First digit: 2x-th century, eg: 1 means 21st century\n",
    "# Second and third digit: year 20xx, eg: 24 means 2024\n",
    "# Fourth digit: Spring (1), Summer (4), Fall (7)"
   ]
  },
  {
   "cell_type": "code",
   "execution_count": 8,
   "metadata": {},
   "outputs": [],
   "source": [
    "# Test: Graphing the enrollment data of CMPT 433\n",
    "\n",
    "testData = data.loc[data['number'] == '433']\n",
    "testData = testData.loc[testData['semester'] >= 1231]\n",
    "testData = testData.sort_values(by=['date'])\n",
    "# testData\n"
   ]
  },
  {
   "cell_type": "code",
   "execution_count": 11,
   "metadata": {},
   "outputs": [],
   "source": [
    "# Note: enrollment start for spring 23: '2022-11-07'\n",
    "# Drop deadline for spring 23: '2023-01-18'\n",
    "spring23_433 = testData.loc[testData['date'] < '2023-01-18']\n",
    "spring23_433 = testData.loc[testData['date'] >= '2022-11-07']\n",
    "#spring24_433 = testData.loc[testData['date'] >= '2023-11-06']"
   ]
  },
  {
   "cell_type": "code",
   "execution_count": 12,
   "metadata": {},
   "outputs": [
    {
     "data": {
      "text/plain": [
       "(array([19304., 19311., 19318., 19327., 19334., 19341., 19348., 19358.,\n",
       "        19365.]),\n",
       " [Text(19304.0, 0, '2022-11-08'),\n",
       "  Text(19311.0, 0, '2022-11-15'),\n",
       "  Text(19318.0, 0, '2022-11-22'),\n",
       "  Text(19327.0, 0, '2022-12-01'),\n",
       "  Text(19334.0, 0, '2022-12-08'),\n",
       "  Text(19341.0, 0, '2022-12-15'),\n",
       "  Text(19348.0, 0, '2022-12-22'),\n",
       "  Text(19358.0, 0, '2023-01-01'),\n",
       "  Text(19365.0, 0, '2023-01-08')])"
      ]
     },
     "execution_count": 12,
     "metadata": {},
     "output_type": "execute_result"
    },
    {
     "data": {
      "image/png": "[encoded data removed]",
      "text/plain": [
       "<Figure size 640x480 with 1 Axes>"
      ]
     },
     "metadata": {},
     "output_type": "display_data"
    }
   ],
   "source": [
    "plt.plot(spring23_433['date'], spring23_433['enrl_tot'], 'b.')\n",
    "plt.xticks(rotation=45)\n"
   ]
  },
  {
   "cell_type": "code",
   "execution_count": null,
   "metadata": {},
   "outputs": [],
   "source": []
  }
 ],
 "metadata": {
  "kernelspec": {
   "display_name": "Python 3",
   "language": "python",
   "name": "python3"
  },
  "language_info": {
   "codemirror_mode": {
    "name": "ipython",
    "version": 3
   },
   "file_extension": ".py",
   "mimetype": "text/x-python",
   "name": "python",
   "nbconvert_exporter": "python",
   "pygments_lexer": "ipython3",
   "version": "3.11.5"
  }
 },
 "nbformat": 4,
 "nbformat_minor": 2
}
